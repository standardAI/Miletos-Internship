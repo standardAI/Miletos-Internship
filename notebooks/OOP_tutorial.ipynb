{
 "cells": [
  {
   "cell_type": "code",
   "execution_count": 3,
   "metadata": {},
   "outputs": [
    {
     "name": "stdout",
     "output_type": "stream",
     "text": [
      "Files already downloaded and verified\n",
      "Files already downloaded and verified\n"
     ]
    }
   ],
   "source": [
    "import torch\n",
    "from torch import nn\n",
    "import torch.nn.functional as F\n",
    "import torchvision\n",
    "from torchvision import transforms\n",
    "\n",
    "transform = transforms.Compose(\n",
    "    [transforms.ToTensor(),\n",
    "     transforms.Normalize((0.5, 0.5, 0.5), (0.5, 0.5, 0.5))])\n",
    "\n",
    "batch_size = 512\n",
    "\n",
    "trainset = torchvision.datasets.CIFAR10(root='./data', train=True,\n",
    "                                        download=True, transform=transform)\n",
    "trainloader = torch.utils.data.DataLoader(trainset, batch_size=batch_size,\n",
    "                                          shuffle=True, num_workers=2)\n",
    "\n",
    "testset = torchvision.datasets.CIFAR10(root='./data', train=False,\n",
    "                                       download=True, transform=transform)\n",
    "testloader = torch.utils.data.DataLoader(testset, batch_size=batch_size,\n",
    "                                         shuffle=False, num_workers=2)\n",
    "\n",
    "classes = ('plane', 'car', 'bird', 'cat',\n",
    "           'deer', 'dog', 'frog', 'horse', 'ship', 'truck')"
   ]
  },
  {
   "cell_type": "code",
   "execution_count": 1,
   "metadata": {},
   "outputs": [
    {
     "name": "stdout",
     "output_type": "stream",
     "text": [
      "Objects created: 0\n",
      "Objects created: 3\n"
     ]
    }
   ],
   "source": [
    "class CreateCounter:\n",
    "    count = 0  # This is a class attribute.\n",
    "    def __init__(self):\n",
    "        CreateCounter.count += 1\n",
    "\n",
    "print('Objects created:', CreateCounter.count)\n",
    "a = CreateCounter()\n",
    "b = CreateCounter()\n",
    "c = CreateCounter()\n",
    "print('Objects created:', CreateCounter.count)"
   ]
  },
  {
   "cell_type": "code",
   "execution_count": 4,
   "metadata": {},
   "outputs": [],
   "source": [
    "# functions -> oop -> modularity, code reuse\n",
    "class Net(nn.Module):  # class: an empty form\n",
    "    def __init__(self):  # “double underscore” to “dunder” methods; self refers to an object\n",
    "        super().__init__()  # to reach parent class's methods and attributes\n",
    "        self._conv1 = nn.Conv2d(in_channels=3, out_channels=16, kernel_size=5, stride=1, padding=0)  # private attribute\n",
    "        self.pool = nn.MaxPool2d(kernel_size=2, stride=2)\n",
    "        self.conv2 = nn.Conv2d(16, 64, 5)\n",
    "        self.fc1 = nn.Linear(64 * 5 * 5, 130)\n",
    "        self.do1 = nn.Dropout(p=0.4)\n",
    "        self.fc2 = nn.Linear(130, 100)\n",
    "        self.fc3 = nn.Linear(100, 10)\n",
    "\n",
    "    def forward(self, x):  # method\n",
    "        x = self.pool(F.relu(self._conv1(x)))\n",
    "        x = self.pool(F.relu(self.conv2(x)))\n",
    "        x = torch.flatten(x, 1)  # flatten all dimensions except batch\n",
    "        x = F.relu(self.do1(self.fc1(x)))\n",
    "        x = F.relu(self.fc2(x))\n",
    "        x = self.fc3(x)\n",
    "        return x\n",
    "    \n",
    "    # Instance method\n",
    "    def printPool1(self):\n",
    "        print(\"instance method\", self)\n",
    "\n",
    "    @staticmethod      # can be called w/o an object; If you do decide to use one, you should strongly consider just creating a regular function instead.\n",
    "    def printPool2():  # From other langs.\n",
    "        print(\"static method\")\n",
    "\n",
    "\n",
    "#net = Net()  # object: a filled form\n",
    "#net = net.to(\"cuda\")  # to method from nn.Module\n",
    "\n",
    "#net._conv1 = 123 -> private variable (or method), should be used only for internal use."
   ]
  },
  {
   "cell_type": "code",
   "execution_count": 7,
   "metadata": {},
   "outputs": [
    {
     "name": "stdout",
     "output_type": "stream",
     "text": [
      "static method\n"
     ]
    }
   ],
   "source": [
    "Net().printPool2()"
   ]
  },
  {
   "cell_type": "code",
   "execution_count": null,
   "metadata": {},
   "outputs": [],
   "source": [
    "#net = Net()\n",
    "net.printPool1()"
   ]
  },
  {
   "cell_type": "code",
   "execution_count": null,
   "metadata": {},
   "outputs": [],
   "source": [
    "# Encapsulation: box up, information hiding"
   ]
  },
  {
   "cell_type": "code",
   "execution_count": 9,
   "metadata": {},
   "outputs": [
    {
     "data": {
      "text/plain": [
       "7"
      ]
     },
     "execution_count": 9,
     "metadata": {},
     "output_type": "execute_result"
    }
   ],
   "source": [
    "# Polymorphism: can handle objects of many different types\n",
    "len(\"abcdefg\")"
   ]
  },
  {
   "cell_type": "code",
   "execution_count": 11,
   "metadata": {},
   "outputs": [
    {
     "data": {
      "text/plain": [
       "7"
      ]
     },
     "execution_count": 11,
     "metadata": {},
     "output_type": "execute_result"
    }
   ],
   "source": [
    "len([1,2,3,4,5,6,'7'])"
   ]
  },
  {
   "cell_type": "code",
   "execution_count": 12,
   "metadata": {},
   "outputs": [
    {
     "data": {
      "text/plain": [
       "7"
      ]
     },
     "execution_count": 12,
     "metadata": {},
     "output_type": "execute_result"
    }
   ],
   "source": [
    "# Operator overloading\n",
    "3 + 4"
   ]
  },
  {
   "cell_type": "code",
   "execution_count": 13,
   "metadata": {},
   "outputs": [
    {
     "data": {
      "text/plain": [
       "'34'"
      ]
     },
     "execution_count": 13,
     "metadata": {},
     "output_type": "execute_result"
    }
   ],
   "source": [
    "'3' + '4'"
   ]
  },
  {
   "cell_type": "code",
   "execution_count": null,
   "metadata": {},
   "outputs": [],
   "source": []
  },
  {
   "cell_type": "code",
   "execution_count": 2,
   "metadata": {},
   "outputs": [],
   "source": [
    "# Inheritance:\n",
    "\n",
    "class ParentClass:\n",
    "  def parentFunc(self):\n",
    "    print('I am parent.')\n",
    "\n",
    "class ChildClass(ParentClass):\n",
    "  def childFunc(self):  #\n",
    "    print(\"I am child.\")\n",
    "\n",
    "class GrandchildClass(ChildClass):\n",
    "  def grandChildFunc(self):\n",
    "    print('I am grandchild.')\n",
    "  def childFunc(self):  # Method overriding; polymorphism\n",
    "    print(\"Overridden childFunc.\")"
   ]
  },
  {
   "cell_type": "code",
   "execution_count": null,
   "metadata": {},
   "outputs": [],
   "source": [
    "parent = ParentClass()\n",
    "parent.parentFunc()"
   ]
  },
  {
   "cell_type": "code",
   "execution_count": null,
   "metadata": {},
   "outputs": [],
   "source": [
    "child = ChildClass()\n",
    "child.parentFunc()\n",
    "child.childFunc()"
   ]
  },
  {
   "cell_type": "code",
   "execution_count": null,
   "metadata": {},
   "outputs": [],
   "source": [
    "grandchild = GrandchildClass()\n",
    "grandchild.parentFunc()\n",
    "grandchild.childFunc()\n",
    "grandchild.grandChildFunc()"
   ]
  },
  {
   "cell_type": "code",
   "execution_count": 6,
   "metadata": {},
   "outputs": [
    {
     "ename": "AttributeError",
     "evalue": "'ParentClass' object has no attribute 'childFunc'",
     "output_type": "error",
     "traceback": [
      "\u001b[0;31m---------------------------------------------------------------------------\u001b[0m",
      "\u001b[0;31mAttributeError\u001b[0m                            Traceback (most recent call last)",
      "\u001b[1;32m/home/cosmos/Documents/Miletos/OOP_tutorial.ipynb Cell 6\u001b[0m in \u001b[0;36m<cell line: 1>\u001b[0;34m()\u001b[0m\n\u001b[0;32m----> <a href='vscode-notebook-cell:/home/cosmos/Documents/Miletos/OOP_tutorial.ipynb#W5sZmlsZQ%3D%3D?line=0'>1</a>\u001b[0m parent\u001b[39m.\u001b[39;49mchildFunc()\n",
      "\u001b[0;31mAttributeError\u001b[0m: 'ParentClass' object has no attribute 'childFunc'"
     ]
    }
   ],
   "source": [
    "parent.childFunc()"
   ]
  },
  {
   "cell_type": "code",
   "execution_count": null,
   "metadata": {},
   "outputs": [],
   "source": [
    "array = np.array([1,2,3,4,5])"
   ]
  },
  {
   "cell_type": "code",
   "execution_count": null,
   "metadata": {},
   "outputs": [],
   "source": [
    "array.sum()"
   ]
  },
  {
   "cell_type": "code",
   "execution_count": null,
   "metadata": {},
   "outputs": [],
   "source": [
    "np.sum(array)"
   ]
  },
  {
   "cell_type": "code",
   "execution_count": 35,
   "metadata": {},
   "outputs": [
    {
     "name": "stdout",
     "output_type": "stream",
     "text": [
      "10\n",
      "11\n"
     ]
    }
   ],
   "source": [
    "class ClassProperties:\n",
    "    def __init__(self):\n",
    "        self.attribute = 10\n",
    "    \n",
    "    @property\n",
    "    def attribute(self):  # Getter method.\n",
    "        return self._attribute\n",
    "        \n",
    "    @attribute.setter\n",
    "    def attribute(self, value):  # Setter method.\n",
    "        if not isinstance(value, int):\n",
    "            raise TypeError(\"attribute must be an integer\")\n",
    "        if value < 0:\n",
    "            raise ValueError(\"attribute must be positive\")\n",
    "        self._attribute = value\n",
    "    \n",
    "    @attribute.deleter\n",
    "    def attribute(self):  # Deleter method.\n",
    "        del self._attribute\n",
    "\n",
    "    def __str__(self):\n",
    "        return f\"attribute: {self.attribute}\"\n",
    "    \n",
    "    def __add__(self, other):  # Operator overloading\n",
    "        a = ClassProperties()\n",
    "        a.attribute = self.attribute * other.attribute\n",
    "        return a\n",
    "    \n",
    "    def __mul__(self, other):  # Operator overloading\n",
    "        a = ClassProperties()\n",
    "        a.attribute = self.attribute + other.attribute\n",
    "        return a\n",
    "\n",
    "obj = ClassProperties()\n",
    "print(obj.attribute)  # calls the getter method \n",
    "obj.attribute = 11  # calls the setter method\n",
    "print(obj.attribute)\n",
    "#del obj.attribute  # calls the deleter method"
   ]
  },
  {
   "cell_type": "code",
   "execution_count": 36,
   "metadata": {},
   "outputs": [
    {
     "name": "stdout",
     "output_type": "stream",
     "text": [
      "'Summation': attribute: 220\n",
      "'Multiplication': attribute: 31\n"
     ]
    }
   ],
   "source": [
    "obj2 = ClassProperties()\n",
    "obj2.attribute = 20\n",
    "\n",
    "sum = obj + obj2\n",
    "mul = obj * obj2\n",
    "print(f\"'Summation': {sum}\\n'Multiplication': {mul}\")"
   ]
  },
  {
   "cell_type": "code",
   "execution_count": null,
   "metadata": {},
   "outputs": [],
   "source": [
    "from torch import optim\n",
    "\n",
    "criterion = nn.CrossEntropyLoss()\n",
    "optimizer = optim.Adam(net.parameters())"
   ]
  },
  {
   "cell_type": "code",
   "execution_count": null,
   "metadata": {},
   "outputs": [],
   "source": [
    "net.train()\n",
    "\n",
    "for epoch in range(10):\n",
    "\n",
    "    loss_epoch = 0.0\n",
    "    for i, data in enumerate(trainloader):\n",
    "\n",
    "        inputs, labels = data[0].to(\"cuda\"), data[1].to(\"cuda\")\n",
    "\n",
    "        # zero the parameter gradients\n",
    "        optimizer.zero_grad()\n",
    "\n",
    "        outputs = net(inputs)\n",
    "        loss = criterion(outputs, labels)\n",
    "        loss.backward()\n",
    "        optimizer.step()\n",
    "\n",
    "        loss_epoch += loss.item()\n",
    "\n",
    "    print(f'Epoch {epoch + 1} - Loss: {loss_epoch / (len(trainloader)):.3f}')"
   ]
  },
  {
   "cell_type": "code",
   "execution_count": null,
   "metadata": {},
   "outputs": [],
   "source": [
    "net.eval()\n",
    "\n",
    "correct = 0\n",
    "total = 0\n",
    "\n",
    "with torch.no_grad():\n",
    "    for data in testloader:\n",
    "        images, labels = data[0].to(\"cuda\"), data[1].to(\"cuda\")\n",
    "        outputs = net(images)\n",
    "        _, predicted = torch.max(outputs.data, 1)\n",
    "        total += labels.size(0)\n",
    "        correct += (predicted == labels).sum().item()\n",
    "\n",
    "print(f'Accuracy of the network on the 10000 test images: {100 * correct // total} %')"
   ]
  }
 ],
 "metadata": {
  "kernelspec": {
   "display_name": "Python 3.9.13 ('th')",
   "language": "python",
   "name": "python3"
  },
  "language_info": {
   "codemirror_mode": {
    "name": "ipython",
    "version": 3
   },
   "file_extension": ".py",
   "mimetype": "text/x-python",
   "name": "python",
   "nbconvert_exporter": "python",
   "pygments_lexer": "ipython3",
   "version": "3.9.13"
  },
  "orig_nbformat": 4,
  "vscode": {
   "interpreter": {
    "hash": "0eba0d3721dd99d5e85d92095d30b3f3baa213223e21c8471968ea015153b8df"
   }
  }
 },
 "nbformat": 4,
 "nbformat_minor": 2
}
